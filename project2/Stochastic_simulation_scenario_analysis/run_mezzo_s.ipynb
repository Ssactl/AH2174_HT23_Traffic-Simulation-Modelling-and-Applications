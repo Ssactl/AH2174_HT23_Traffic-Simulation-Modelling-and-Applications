{
 "cells": [
  {
   "cell_type": "markdown",
   "metadata": {},
   "source": [
    "This file gives an example showing how to run mezzo_s standalone from Python and collect the results"
   ]
  },
  {
   "cell_type": "code",
   "execution_count": 47,
   "metadata": {},
   "outputs": [],
   "source": [
    "import os\n",
    "\n",
    "filepath = f'E:/AH2174/Mezzo/mezzo_s.exe' # This is the relative path to the mezzo_s executable, please adapt to your case\n",
    "seed = 3 # This defines the random seed\n",
    "\n",
    "# for scenarioA\n",
    "scenario_A = f'E:/AH2174/lab3/Stochastic_sim/ScenarioA/sodermalm.mezzo' # This is the relative path to the scenario you want to run. # Note that you need to update for different scenario paths\n",
    "outputpath_A = f'E:/AH2174/lab3/Stochastic_sim/ScenarioA/output/summary.dat' #update for different scenario paths.\n",
    "executepath_A = filepath + ' ' + scenario_A + ' ' + str(seed) \n",
    "# os.system(executepath_A) # This calls the simulation\n",
    "\n",
    "# for scenarioB\n",
    "scenario_B = f'E:/AH2174/lab3/Stochastic_sim/ScenarioB/sodermalm.mezzo' # This is the relative path to the scenario you want to run. # Note that you need to update for different scenario paths\n",
    "outputpath_B = f'E:/AH2174/lab3/Stochastic_sim/ScenarioB/output/summary.dat' #update for different scenario paths.\n",
    "executepath_B = filepath + ' ' + scenario_B + ' ' + str(seed)\n",
    "# os.system(executepath_B) # This calls the simulation\n"
   ]
  },
  {
   "cell_type": "markdown",
   "metadata": {},
   "source": [
    "Now run the simulation 6 times with a different random seed, and collect the average speed. \n",
    "\n",
    "Note: Here I choose to do it via the summary.dat file which has for each OD pair the totalMileage(m) and TotalTraveltime(s). There are other ways, for instance using speeds.dat. You can also decide to weigh the speeds, for instance by nr of arrivals for each OD pair (make sure you exclude OD pairs with 0 arrivals)"
   ]
  },
  {
   "cell_type": "code",
   "execution_count": 46,
   "metadata": {},
   "outputs": [],
   "source": [
    "import pandas as pd\n",
    "\n",
    "avg_speed_A = pd.DataFrame()\n",
    "avg_speed_B = pd.DataFrame()\n",
    "\n",
    "vals_A = []\n",
    "vals_B = []\n",
    "\n",
    "for i in range (1,6):\n",
    "    seed = i # This defines the random seed\n",
    "    executepath_A = filepath + ' ' + scenario_A + ' ' + str(seed)\n",
    "    executepath_B = filepath + ' ' + scenario_B + ' ' + str(seed) \n",
    "\n",
    "    os.system(executepath_A) # This calls the simulation\n",
    "    os.system(executepath_B) # This calls the simulation\n",
    "\n",
    "    summary_df_A = pd.read_csv(outputpath_A, sep='\\t') \n",
    "    summary_df_A['avg_speed'] = summary_df_A ['TotalMileage(m)']/summary_df_A['TotalTravelTime(s)']\n",
    "    vals_A.append(summary_df_A.loc[:,'avg_speed'].mean())\n",
    "\n",
    "    summary_df_B = pd.read_csv(outputpath_B, sep='\\t') \n",
    "    summary_df_B['avg_speed'] = summary_df_B ['TotalMileage(m)']/summary_df_B['TotalTravelTime(s)']\n",
    "    vals_B.append(summary_df_B.loc[:,'avg_speed'].mean())"
   ]
  },
  {
   "cell_type": "code",
   "execution_count": 57,
   "metadata": {},
   "outputs": [
    {
     "name": "stdout",
     "output_type": "stream",
     "text": [
      "[19.45161396 19.4836492  19.45832106 19.45325841 19.47115925]\n",
      "[18.18558714 18.18241355 18.14892777 18.16440607 18.12825941]\n"
     ]
    }
   ],
   "source": [
    "print(vals_A)\n",
    "print(vals_B)"
   ]
  },
  {
   "cell_type": "markdown",
   "metadata": {},
   "source": [
    "You can use the statistics package to calculate means, variances etc."
   ]
  },
  {
   "cell_type": "markdown",
   "metadata": {},
   "source": [
    "Determine the required number of simulation runs for each of the two scenarios (Refer to slides for Lecture 5), in order to reach an acceptable error of 0.01 (1%) for the estimate of average network speed. \n",
    "\n",
    "Tip: start with an initial N = 5 simulation runs (with different seeds), then based on those determine how many more runs you need to do, then repeat this process until you have done more than your latest estimation for N\n",
    "\n",
    "So by referring to the equation in lecture 5, we write a function to calculate the required simulation runs for both scenarios."
   ]
  },
  {
   "cell_type": "code",
   "execution_count": 50,
   "metadata": {},
   "outputs": [
    {
     "name": "stdout",
     "output_type": "stream",
     "text": [
      "Required simualtion runs for scenario A: 0.03001781869633584\n",
      "Required simualtion runs for scenario B: 0.1069463461026142\n"
     ]
    }
   ],
   "source": [
    "from scipy.stats import t\n",
    "import numpy as np\n",
    "\n",
    "def calculate_required_simulation_runs(vals, alpha=0.05, error=0.01):\n",
    "  degrees_of_freedom = len(vals)-1\n",
    "  std=np.std(vals)\n",
    "  mean=np.mean(vals)\n",
    "  t_statistic = t.ppf(1-alpha/2, degrees_of_freedom)\n",
    "\n",
    "  required_runs = ((t_statistic * std) / (error*mean)) ** 2\n",
    "  return required_runs\n",
    "\n",
    "# Calculate required simulation runs for scenarios A and B\n",
    "required_runs_A = calculate_required_simulation_runs(vals_A)\n",
    "required_runs_B = calculate_required_simulation_runs(vals_B)\n",
    "\n",
    "print(f'Required simualtion runs for scenario A: {required_runs_A}')\n",
    "print(f'Required simualtion runs for scenario B: {required_runs_B}')"
   ]
  },
  {
   "cell_type": "markdown",
   "metadata": {},
   "source": [
    "The required simulation runs results both are lower than 1, indicating that 5 simulation runs are enough for both scenarios.\n",
    "\n"
   ]
  },
  {
   "cell_type": "markdown",
   "metadata": {},
   "source": [
    "Define the null and alternative hypotheses:  \n",
    "Null Hypothesis (H0): There is no significant difference in the average network speed between scenario A and scenario B.  \n",
    "Alternative Hypothesis (H1): There is a significant difference in the average network speed between scenario A and scenario B."
   ]
  },
  {
   "cell_type": "markdown",
   "metadata": {},
   "source": [
    "Hypothesis Testing:  \n",
    "1. Set the significance level (α) to 0.05\n",
    "2. Collect simulation data for both scenarios: vals_A, vals_B\n",
    "3. Use a t-test to compare the average network speeds of scenario A and B."
   ]
  },
  {
   "cell_type": "markdown",
   "metadata": {},
   "source": [
    "Result and Conclusion:\n",
    "\n",
    "If the p-value is less than the significance level (α), reject the null hypothesis.  \n",
    "If the p-value is greater than or equal to the significance level, fail to reject the null hypothesis.\n",
    "Interpretation:\n",
    "\n",
    "Intepretation:\n",
    "If the null hypothesis is rejected, it suggests that there is a significant difference in the average network speed between scenario A and B.  \n",
    "If the null hypothesis is not rejected, it implies that there is insufficient evidence to claim a significant difference in average network speed between the two scenarios.  \n",
    "\n",
    "Note:\n",
    "The p-value is a crucial indicator in hypothesis testing. It represents the probability of obtaining the observed results (or more extreme) if the null hypothesis is true. A lower p-value suggests stronger evidence against the null hypothesis."
   ]
  },
  {
   "cell_type": "code",
   "execution_count": 55,
   "metadata": {},
   "outputs": [
    {
     "name": "stdout",
     "output_type": "stream",
     "text": [
      "Reject the null hypothesis. There is a significant difference.\n",
      "Confidence Interval using scipy.stats.t.interval: (1.2665924076059152, 1.3367707687693813)\n"
     ]
    }
   ],
   "source": [
    "from scipy import stats\n",
    "import scipy.stats as ss\n",
    "\n",
    "# Assume alpha (significance level) is 0.05\n",
    "alpha = 0.05\n",
    "\n",
    "# Perform an independent two-sample t-test\n",
    "t_statistic, p_value = stats.ttest_ind(vals_A, vals_B)\n",
    "\n",
    "# Determine whether to reject the null hypothesis\n",
    "if p_value < alpha:\n",
    "    print(\"Reject the null hypothesis. There is a significant difference.\")\n",
    "else:\n",
    "    print(\"Fail to reject the null hypothesis. No significant difference.\")\n",
    "\n",
    "\n",
    "# Convert lists to NumPy arrays\n",
    "vals_A = np.array(vals_A)\n",
    "vals_B = np.array(vals_B)\n",
    "\n",
    "# Calculate the confidence interval for the difference in means using scipy.stats.t.interval\n",
    "confidence_interval_scipy = ss.t.interval(0.95, len(vals_A)-1, loc=np.mean(vals_A)-np.mean(vals_B), scale=ss.sem(vals_A - vals_B))\n",
    "\n",
    "print(\"Confidence Interval using scipy.stats.t.interval:\", confidence_interval_scipy)"
   ]
  },
  {
   "cell_type": "markdown",
   "metadata": {},
   "source": [
    "Use for instance matplotlib to plot boxplots for values. This can also give an idea of sizes of confidence intervals (besides calculation)"
   ]
  },
  {
   "cell_type": "code",
   "execution_count": 58,
   "metadata": {},
   "outputs": [
    {
     "data": {
      "image/png": "[encoded data removed]",
      "text/plain": [
       "<Figure size 1000x700 with 1 Axes>"
      ]
     },
     "metadata": {},
     "output_type": "display_data"
    }
   ],
   "source": [
    "import matplotlib.pyplot as plt\n",
    "import numpy as np\n",
    "fig = plt.figure(figsize =(10, 7))\n",
    " \n",
    "# Creating plot\n",
    "plt.boxplot(vals_A)\n",
    " \n",
    "# show plot\n",
    "plt.show()"
   ]
  }
 ],
 "metadata": {
  "kernelspec": {
   "display_name": "Python 3",
   "language": "python",
   "name": "python3"
  },
  "language_info": {
   "codemirror_mode": {
    "name": "ipython",
    "version": 3
   },
   "file_extension": ".py",
   "mimetype": "text/x-python",
   "name": "python",
   "nbconvert_exporter": "python",
   "pygments_lexer": "ipython3",
   "version": "3.11.7"
  },
  "orig_nbformat": 4
 },
 "nbformat": 4,
 "nbformat_minor": 2
}
